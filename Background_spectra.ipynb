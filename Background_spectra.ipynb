{
 "cells": [
  {
   "cell_type": "code",
   "execution_count": null,
   "id": "27a774ec-83ba-45c1-b478-a371f192256b",
   "metadata": {},
   "outputs": [],
   "source": [
    "import numpy as np\n",
    "import matplotlib.pyplot as plt"
   ]
  },
  {
   "cell_type": "code",
   "execution_count": null,
   "id": "15779409-e109-4434-a983-a2f23335d34c",
   "metadata": {},
   "outputs": [],
   "source": [
    "#################################################################################\n",
    "# Background spectra modeling based on arXiv:2405.18008v1 and arXiv:2204.13249 ##\n",
    "#################################################################################\n",
    "\n",
    "# --- Generates the 'Bg_spectra_ind.npy' and 'Bg_spectra_tot.npy' files --- #\n",
    "\n",
    "# Reconstructed energy bins center [MeV]\n",
    "evbins = np.linspace(0.9,10.02,228)"
   ]
  },
  {
   "cell_type": "code",
   "execution_count": null,
   "id": "955163f8-ca48-46af-b075-508ead9875dc",
   "metadata": {},
   "outputs": [],
   "source": [
    "# --- Individual background spectrum modeling (normalized per bin) --- #\n",
    "\n",
    "# Fast neutron background\n",
    "Bg_fastn = 5.0764e-9*np.ones((228)) \n",
    "\n",
    "# Atmospheric neutrinos background\n",
    "Bg_atmnu = 8.1222e-9*np.ones((228)) \n",
    "\n",
    " # ⁹Li/⁸He background\n",
    "Bg_LiHe = 4.272e-8*(np.tanh(evbins-0.6))\n",
    "\n",
    "# World reactors background\n",
    "a = np.ones((228))\n",
    "a[130:228] = np.exp(-1*((evbins[0:98]-0.89)*0.45)) \n",
    "Bg_wr = 5.7855e-9*(10*np.tanh(evbins-0.77))*5**(np.sin(evbins/1.53)/2)*a\n",
    "\n",
    "# ¹³C(α,n)¹⁶O background\n",
    "Bg_CO = 1.752e-8*np.exp(-((evbins[0:58]-1.6)/0.85)**2) \n",
    "\n",
    "# Accidental background\n",
    "Bg_acc = 1.85595e-7*np.array((np.ones((48))).tolist() + (10**(-7*np.linspace(0, 0.2, 5))).tolist() + (10**(-0.06*np.linspace(28, 46, 10)+0.15)).tolist())\n",
    "\n",
    "# Geoneutrinos background\n",
    "p1 = np.array((2.02*np.log(np.sqrt(evbins[0:13]/1.05))+ 0.25)).tolist()\n",
    "p2 = [10**(-5.1e-1*p1[-1]), 10**(-0.55*p1[-1])]\n",
    "pp = 12.3*np.linspace(p2[-1], p2[-2], 24)\n",
    "p3 = np.array((np.sqrt(pp - 5.5)/3)-0.12).tolist()\n",
    "p4 = [10**(-2.8*p3[-1]), 10**(-3.1*p3[-1]), 10**(-14.55*p3[-1])]\n",
    "Bg_geonu = 1.3041e-6*np.array(p1+p2+p3+p4)"
   ]
  },
  {
   "cell_type": "code",
   "execution_count": null,
   "id": "90afcb76-ff08-4269-be1d-c99d3fe403a4",
   "metadata": {},
   "outputs": [],
   "source": [
    "# --- Saving individual background components --- #\n",
    "Bg_spectra_ind = [list(Bg_fastn), list(Bg_atmnu), list(Bg_LiHe), list(Bg_wr), list(Bg_CO), list(Bg_acc), list(Bg_geonu)]\n",
    "Bg_spectra_ind = np.array(Bg_spectra_ind, dtype = object)\n",
    "np.save('Bg_spectra_ind', Bg_spectra_ind)\n",
    "\n",
    "# --- Computing the total background spectrum --- #\n",
    "Bg_spectra_tot = []\n",
    "\n",
    "# Energy ranges where different backgrounds contribute\n",
    "# 0 - 42 bins: include all backgrounds\n",
    "for i in range(42):\n",
    "    Bg_spectra_tot.append(Bg_fastn[i] + Bg_atmnu[i] + Bg_LiHe[i] + Bg_wr[i] + Bg_CO[i] + Bg_acc[i] + Bg_geonu[i])\n",
    "    \n",
    "# 42 - 58 bins: without geoneutrinos background\n",
    "for j in range(42,58):\n",
    "    Bg_spectra_tot.append(Bg_fastn[j] + Bg_atmnu[j] + Bg_LiHe[j] + Bg_wr[j] + Bg_CO[j] + Bg_acc[j])\n",
    "    \n",
    "# 58 - 63 bins: same as above but without the ¹³C(α,n)¹⁶O background\n",
    "for k in range(58,63):\n",
    "    Bg_spectra_tot.append(Bg_fastn[k] + Bg_atmnu[k] + Bg_LiHe[k] + Bg_wr[k] + Bg_acc[k])\n",
    "    \n",
    "# 63 - 228 bins: same as above but wihout the accidental background\n",
    "for l in range(63,228):\n",
    "    Bg_spectra_tot.append(Bg_fastn[l] + Bg_atmnu[l] + Bg_LiHe[l] + Bg_wr[l])\n",
    "\n",
    "# Converting to numpy array and saving\n",
    "Bg_spectra_tot = np.array(Bg_spectra_tot)\n",
    "np.save('Bg_spectra_tot', Bg_spectra_tot)"
   ]
  }
 ],
 "metadata": {
  "kernelspec": {
   "display_name": "Python 3 (Spyder)",
   "language": "python3",
   "name": "python3"
  },
  "language_info": {
   "codemirror_mode": {
    "name": "ipython",
    "version": 3
   },
   "file_extension": ".py",
   "mimetype": "text/x-python",
   "name": "python",
   "nbconvert_exporter": "python",
   "pygments_lexer": "ipython3",
   "version": "3.11.7"
  }
 },
 "nbformat": 4,
 "nbformat_minor": 5
}
